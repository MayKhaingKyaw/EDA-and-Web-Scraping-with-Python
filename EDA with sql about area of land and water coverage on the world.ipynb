{
 "cells": [
  {
   "cell_type": "markdown",
   "metadata": {},
   "source": [
    "### Introduction"
   ]
  },
  {
   "cell_type": "code",
   "execution_count": 1,
   "metadata": {},
   "outputs": [],
   "source": [
    "%%capture\n",
    "%load_ext sql"
   ]
  },
  {
   "cell_type": "code",
   "execution_count": 2,
   "metadata": {},
   "outputs": [
    {
     "data": {
      "text/plain": [
       "'Connected: @factbook.db'"
      ]
     },
     "execution_count": 2,
     "metadata": {},
     "output_type": "execute_result"
    }
   ],
   "source": [
    "%sql sqlite:///factbook.db"
   ]
  },
  {
   "cell_type": "markdown",
   "metadata": {},
   "source": [
    "### Explore Table"
   ]
  },
  {
   "cell_type": "code",
   "execution_count": 4,
   "metadata": {},
   "outputs": [
    {
     "name": "stdout",
     "output_type": "stream",
     "text": [
      " * sqlite:///factbook.db\n",
      "Done.\n"
     ]
    },
    {
     "data": {
      "text/html": [
       "<table>\n",
       "    <thead>\n",
       "        <tr>\n",
       "            <th>id</th>\n",
       "            <th>code</th>\n",
       "            <th>name</th>\n",
       "            <th>area</th>\n",
       "            <th>area_land</th>\n",
       "            <th>area_water</th>\n",
       "            <th>population</th>\n",
       "            <th>population_growth</th>\n",
       "            <th>birth_rate</th>\n",
       "            <th>death_rate</th>\n",
       "            <th>migration_rate</th>\n",
       "        </tr>\n",
       "    </thead>\n",
       "    <tbody>\n",
       "        <tr>\n",
       "            <td>1</td>\n",
       "            <td>af</td>\n",
       "            <td>Afghanistan</td>\n",
       "            <td>652230</td>\n",
       "            <td>652230</td>\n",
       "            <td>0</td>\n",
       "            <td>32564342</td>\n",
       "            <td>2.32</td>\n",
       "            <td>38.57</td>\n",
       "            <td>13.89</td>\n",
       "            <td>1.51</td>\n",
       "        </tr>\n",
       "        <tr>\n",
       "            <td>2</td>\n",
       "            <td>al</td>\n",
       "            <td>Albania</td>\n",
       "            <td>28748</td>\n",
       "            <td>27398</td>\n",
       "            <td>1350</td>\n",
       "            <td>3029278</td>\n",
       "            <td>0.3</td>\n",
       "            <td>12.92</td>\n",
       "            <td>6.58</td>\n",
       "            <td>3.3</td>\n",
       "        </tr>\n",
       "        <tr>\n",
       "            <td>3</td>\n",
       "            <td>ag</td>\n",
       "            <td>Algeria</td>\n",
       "            <td>2381741</td>\n",
       "            <td>2381741</td>\n",
       "            <td>0</td>\n",
       "            <td>39542166</td>\n",
       "            <td>1.84</td>\n",
       "            <td>23.67</td>\n",
       "            <td>4.31</td>\n",
       "            <td>0.92</td>\n",
       "        </tr>\n",
       "        <tr>\n",
       "            <td>4</td>\n",
       "            <td>an</td>\n",
       "            <td>Andorra</td>\n",
       "            <td>468</td>\n",
       "            <td>468</td>\n",
       "            <td>0</td>\n",
       "            <td>85580</td>\n",
       "            <td>0.12</td>\n",
       "            <td>8.13</td>\n",
       "            <td>6.96</td>\n",
       "            <td>0.0</td>\n",
       "        </tr>\n",
       "        <tr>\n",
       "            <td>5</td>\n",
       "            <td>ao</td>\n",
       "            <td>Angola</td>\n",
       "            <td>1246700</td>\n",
       "            <td>1246700</td>\n",
       "            <td>0</td>\n",
       "            <td>19625353</td>\n",
       "            <td>2.78</td>\n",
       "            <td>38.78</td>\n",
       "            <td>11.49</td>\n",
       "            <td>0.46</td>\n",
       "        </tr>\n",
       "    </tbody>\n",
       "</table>"
      ],
      "text/plain": [
       "[(1, 'af', 'Afghanistan', 652230, 652230, 0, 32564342, 2.32, 38.57, 13.89, 1.51),\n",
       " (2, 'al', 'Albania', 28748, 27398, 1350, 3029278, 0.3, 12.92, 6.58, 3.3),\n",
       " (3, 'ag', 'Algeria', 2381741, 2381741, 0, 39542166, 1.84, 23.67, 4.31, 0.92),\n",
       " (4, 'an', 'Andorra', 468, 468, 0, 85580, 0.12, 8.13, 6.96, 0.0),\n",
       " (5, 'ao', 'Angola', 1246700, 1246700, 0, 19625353, 2.78, 38.78, 11.49, 0.46)]"
      ]
     },
     "execution_count": 4,
     "metadata": {},
     "output_type": "execute_result"
    }
   ],
   "source": [
    "%%sql\n",
    "SELECT * FROM facts LIMIT 5"
   ]
  },
  {
   "cell_type": "markdown",
   "metadata": {},
   "source": [
    "### Summary Statistic"
   ]
  },
  {
   "cell_type": "code",
   "execution_count": 6,
   "metadata": {},
   "outputs": [
    {
     "name": "stdout",
     "output_type": "stream",
     "text": [
      " * sqlite:///factbook.db\n",
      "Done.\n"
     ]
    },
    {
     "data": {
      "text/html": [
       "<table>\n",
       "    <thead>\n",
       "        <tr>\n",
       "            <th>max_area</th>\n",
       "            <th>min_area</th>\n",
       "            <th>avg_area</th>\n",
       "        </tr>\n",
       "    </thead>\n",
       "    <tbody>\n",
       "        <tr>\n",
       "            <td>17098242</td>\n",
       "            <td>0</td>\n",
       "            <td>555093.546184739</td>\n",
       "        </tr>\n",
       "    </tbody>\n",
       "</table>"
      ],
      "text/plain": [
       "[(17098242, 0, 555093.546184739)]"
      ]
     },
     "execution_count": 6,
     "metadata": {},
     "output_type": "execute_result"
    }
   ],
   "source": [
    "%%sql\n",
    "SELECT \n",
    "MAX(area) AS max_area,\n",
    "MIN(area) AS min_area,\n",
    "AVG(area) AS avg_area\n",
    "FROM facts;"
   ]
  },
  {
   "cell_type": "code",
   "execution_count": 44,
   "metadata": {},
   "outputs": [
    {
     "name": "stdout",
     "output_type": "stream",
     "text": [
      " * sqlite:///factbook.db\n",
      "Done.\n"
     ]
    },
    {
     "data": {
      "text/html": [
       "<table>\n",
       "    <thead>\n",
       "        <tr>\n",
       "            <th>max_area_land</th>\n",
       "            <th>min_area_land</th>\n",
       "            <th>avg_area_land</th>\n",
       "        </tr>\n",
       "    </thead>\n",
       "    <tbody>\n",
       "        <tr>\n",
       "            <td>16377742</td>\n",
       "            <td>0</td>\n",
       "            <td>522702.57723577233</td>\n",
       "        </tr>\n",
       "    </tbody>\n",
       "</table>"
      ],
      "text/plain": [
       "[(16377742, 0, 522702.57723577233)]"
      ]
     },
     "execution_count": 44,
     "metadata": {},
     "output_type": "execute_result"
    }
   ],
   "source": [
    "%%sql\n",
    "SELECT \n",
    "MAX(area_land) AS max_area_land,\n",
    "MIN(area_land) AS min_area_land,\n",
    "AVG(area_land) AS avg_area_land\n",
    "FROM facts;"
   ]
  },
  {
   "cell_type": "code",
   "execution_count": 45,
   "metadata": {},
   "outputs": [
    {
     "name": "stdout",
     "output_type": "stream",
     "text": [
      " * sqlite:///factbook.db\n",
      "Done.\n"
     ]
    },
    {
     "data": {
      "text/html": [
       "<table>\n",
       "    <thead>\n",
       "        <tr>\n",
       "            <th>max_area_water</th>\n",
       "            <th>min_area_water</th>\n",
       "            <th>avg_area_water</th>\n",
       "        </tr>\n",
       "    </thead>\n",
       "    <tbody>\n",
       "        <tr>\n",
       "            <td>891163</td>\n",
       "            <td>0</td>\n",
       "            <td>19067.59259259259</td>\n",
       "        </tr>\n",
       "    </tbody>\n",
       "</table>"
      ],
      "text/plain": [
       "[(891163, 0, 19067.59259259259)]"
      ]
     },
     "execution_count": 45,
     "metadata": {},
     "output_type": "execute_result"
    }
   ],
   "source": [
    "%%sql\n",
    "SELECT \n",
    "MAX(area_water) AS max_area_water,\n",
    "MIN(area_water) AS min_area_water,\n",
    "AVG(area_water) AS avg_area_water\n",
    "FROM facts;"
   ]
  },
  {
   "cell_type": "markdown",
   "metadata": {},
   "source": [
    "### Viewing the country with the largest area and the lowest area "
   ]
  },
  {
   "cell_type": "code",
   "execution_count": 14,
   "metadata": {},
   "outputs": [
    {
     "name": "stdout",
     "output_type": "stream",
     "text": [
      " * sqlite:///factbook.db\n",
      "Done.\n"
     ]
    },
    {
     "data": {
      "text/html": [
       "<table>\n",
       "    <thead>\n",
       "        <tr>\n",
       "            <th>id</th>\n",
       "            <th>code</th>\n",
       "            <th>name</th>\n",
       "            <th>area</th>\n",
       "            <th>area_land</th>\n",
       "            <th>area_water</th>\n",
       "            <th>population</th>\n",
       "            <th>population_growth</th>\n",
       "            <th>birth_rate</th>\n",
       "            <th>death_rate</th>\n",
       "            <th>migration_rate</th>\n",
       "        </tr>\n",
       "    </thead>\n",
       "    <tbody>\n",
       "        <tr>\n",
       "            <td>117</td>\n",
       "            <td>mn</td>\n",
       "            <td>Monaco</td>\n",
       "            <td>2</td>\n",
       "            <td>2</td>\n",
       "            <td>0</td>\n",
       "            <td>30535</td>\n",
       "            <td>0.12</td>\n",
       "            <td>6.65</td>\n",
       "            <td>9.24</td>\n",
       "            <td>3.83</td>\n",
       "        </tr>\n",
       "        <tr>\n",
       "            <td>143</td>\n",
       "            <td>rs</td>\n",
       "            <td>Russia</td>\n",
       "            <td>17098242</td>\n",
       "            <td>16377742</td>\n",
       "            <td>720500</td>\n",
       "            <td>142423773</td>\n",
       "            <td>0.04</td>\n",
       "            <td>11.6</td>\n",
       "            <td>13.69</td>\n",
       "            <td>1.69</td>\n",
       "        </tr>\n",
       "    </tbody>\n",
       "</table>"
      ],
      "text/plain": [
       "[(117, 'mn', 'Monaco', 2, 2, 0, 30535, 0.12, 6.65, 9.24, 3.83),\n",
       " (143, 'rs', 'Russia', 17098242, 16377742, 720500, 142423773, 0.04, 11.6, 13.69, 1.69)]"
      ]
     },
     "execution_count": 14,
     "metadata": {},
     "output_type": "execute_result"
    }
   ],
   "source": [
    "%%sql\n",
    "SELECT *\n",
    "FROM facts\n",
    "WHERE area=(SELECT MAX(area) FROM facts)\n",
    "OR area=(SELECT MIN(area) FROM facts WHERE area!=0);"
   ]
  },
  {
   "cell_type": "code",
   "execution_count": 13,
   "metadata": {},
   "outputs": [
    {
     "name": "stdout",
     "output_type": "stream",
     "text": [
      " * sqlite:///factbook.db\n",
      "Done.\n"
     ]
    },
    {
     "data": {
      "text/html": [
       "<table>\n",
       "    <thead>\n",
       "        <tr>\n",
       "            <th>id</th>\n",
       "            <th>code</th>\n",
       "            <th>name</th>\n",
       "            <th>area</th>\n",
       "            <th>area_land</th>\n",
       "            <th>area_water</th>\n",
       "            <th>population</th>\n",
       "            <th>population_growth</th>\n",
       "            <th>birth_rate</th>\n",
       "            <th>death_rate</th>\n",
       "            <th>migration_rate</th>\n",
       "        </tr>\n",
       "    </thead>\n",
       "    <tbody>\n",
       "        <tr>\n",
       "            <td>117</td>\n",
       "            <td>mn</td>\n",
       "            <td>Monaco</td>\n",
       "            <td>2</td>\n",
       "            <td>2</td>\n",
       "            <td>0</td>\n",
       "            <td>30535</td>\n",
       "            <td>0.12</td>\n",
       "            <td>6.65</td>\n",
       "            <td>9.24</td>\n",
       "            <td>3.83</td>\n",
       "        </tr>\n",
       "        <tr>\n",
       "            <td>143</td>\n",
       "            <td>rs</td>\n",
       "            <td>Russia</td>\n",
       "            <td>17098242</td>\n",
       "            <td>16377742</td>\n",
       "            <td>720500</td>\n",
       "            <td>142423773</td>\n",
       "            <td>0.04</td>\n",
       "            <td>11.6</td>\n",
       "            <td>13.69</td>\n",
       "            <td>1.69</td>\n",
       "        </tr>\n",
       "    </tbody>\n",
       "</table>"
      ],
      "text/plain": [
       "[(117, 'mn', 'Monaco', 2, 2, 0, 30535, 0.12, 6.65, 9.24, 3.83),\n",
       " (143, 'rs', 'Russia', 17098242, 16377742, 720500, 142423773, 0.04, 11.6, 13.69, 1.69)]"
      ]
     },
     "execution_count": 13,
     "metadata": {},
     "output_type": "execute_result"
    }
   ],
   "source": [
    "%%sql\n",
    "SELECT *\n",
    "FROM facts\n",
    "WHERE area_land=(SELECT MAX(area_land) FROM facts)\n",
    "OR \n",
    "area_land=(SELECT MIN(area_land) FROM facts WHERE area_land!=0 );"
   ]
  },
  {
   "cell_type": "code",
   "execution_count": 17,
   "metadata": {},
   "outputs": [
    {
     "name": "stdout",
     "output_type": "stream",
     "text": [
      " * sqlite:///factbook.db\n",
      "Done.\n"
     ]
    },
    {
     "data": {
      "text/html": [
       "<table>\n",
       "    <thead>\n",
       "        <tr>\n",
       "            <th>id</th>\n",
       "            <th>code</th>\n",
       "            <th>name</th>\n",
       "            <th>area</th>\n",
       "            <th>area_land</th>\n",
       "            <th>area_water</th>\n",
       "            <th>population</th>\n",
       "            <th>population_growth</th>\n",
       "            <th>birth_rate</th>\n",
       "            <th>death_rate</th>\n",
       "            <th>migration_rate</th>\n",
       "        </tr>\n",
       "    </thead>\n",
       "    <tbody>\n",
       "        <tr>\n",
       "            <td>143</td>\n",
       "            <td>rs</td>\n",
       "            <td>Russia</td>\n",
       "            <td>17098242</td>\n",
       "            <td>16377742</td>\n",
       "            <td>720500</td>\n",
       "            <td>142423773</td>\n",
       "            <td>0.04</td>\n",
       "            <td>11.6</td>\n",
       "            <td>13.69</td>\n",
       "            <td>1.69</td>\n",
       "        </tr>\n",
       "    </tbody>\n",
       "</table>"
      ],
      "text/plain": [
       "[(143, 'rs', 'Russia', 17098242, 16377742, 720500, 142423773, 0.04, 11.6, 13.69, 1.69)]"
      ]
     },
     "execution_count": 17,
     "metadata": {},
     "output_type": "execute_result"
    }
   ],
   "source": [
    "%%sql\n",
    "SELECT *\n",
    "FROM facts\n",
    "WHERE area=(SELECT MAX(area) FROM facts)\n",
    "OR area_land=(SELECT MAX(area_land) FROM facts);"
   ]
  },
  {
   "cell_type": "markdown",
   "metadata": {},
   "source": [
    "### Viewing the country with the largest area of land and the largest area of water"
   ]
  },
  {
   "cell_type": "code",
   "execution_count": 46,
   "metadata": {},
   "outputs": [
    {
     "name": "stdout",
     "output_type": "stream",
     "text": [
      " * sqlite:///factbook.db\n",
      "Done.\n"
     ]
    },
    {
     "data": {
      "text/html": [
       "<table>\n",
       "    <thead>\n",
       "        <tr>\n",
       "            <th>id</th>\n",
       "            <th>code</th>\n",
       "            <th>name</th>\n",
       "            <th>area</th>\n",
       "            <th>area_land</th>\n",
       "            <th>area_water</th>\n",
       "            <th>population</th>\n",
       "            <th>population_growth</th>\n",
       "            <th>birth_rate</th>\n",
       "            <th>death_rate</th>\n",
       "            <th>migration_rate</th>\n",
       "        </tr>\n",
       "    </thead>\n",
       "    <tbody>\n",
       "        <tr>\n",
       "            <td>32</td>\n",
       "            <td>ca</td>\n",
       "            <td>Canada</td>\n",
       "            <td>9984670</td>\n",
       "            <td>9093507</td>\n",
       "            <td>891163</td>\n",
       "            <td>35099836</td>\n",
       "            <td>0.75</td>\n",
       "            <td>10.28</td>\n",
       "            <td>8.42</td>\n",
       "            <td>5.66</td>\n",
       "        </tr>\n",
       "        <tr>\n",
       "            <td>143</td>\n",
       "            <td>rs</td>\n",
       "            <td>Russia</td>\n",
       "            <td>17098242</td>\n",
       "            <td>16377742</td>\n",
       "            <td>720500</td>\n",
       "            <td>142423773</td>\n",
       "            <td>0.04</td>\n",
       "            <td>11.6</td>\n",
       "            <td>13.69</td>\n",
       "            <td>1.69</td>\n",
       "        </tr>\n",
       "    </tbody>\n",
       "</table>"
      ],
      "text/plain": [
       "[(32, 'ca', 'Canada', 9984670, 9093507, 891163, 35099836, 0.75, 10.28, 8.42, 5.66),\n",
       " (143, 'rs', 'Russia', 17098242, 16377742, 720500, 142423773, 0.04, 11.6, 13.69, 1.69)]"
      ]
     },
     "execution_count": 46,
     "metadata": {},
     "output_type": "execute_result"
    }
   ],
   "source": [
    "%%sql\n",
    "SELECT *\n",
    "FROM facts\n",
    "WHERE area_land=(SELECT MAX(area_land) FROM facts)\n",
    "OR area_water=(SELECT MAX(area_water) FROM facts);"
   ]
  },
  {
   "cell_type": "code",
   "execution_count": 19,
   "metadata": {},
   "outputs": [
    {
     "name": "stdout",
     "output_type": "stream",
     "text": [
      " * sqlite:///factbook.db\n",
      "Done.\n"
     ]
    },
    {
     "data": {
      "text/html": [
       "<table>\n",
       "    <thead>\n",
       "        <tr>\n",
       "            <th>id</th>\n",
       "            <th>code</th>\n",
       "            <th>name</th>\n",
       "            <th>area</th>\n",
       "            <th>area_land</th>\n",
       "            <th>area_water</th>\n",
       "            <th>population</th>\n",
       "            <th>population_growth</th>\n",
       "            <th>birth_rate</th>\n",
       "            <th>death_rate</th>\n",
       "            <th>migration_rate</th>\n",
       "        </tr>\n",
       "    </thead>\n",
       "    <tbody>\n",
       "        <tr>\n",
       "            <td>32</td>\n",
       "            <td>ca</td>\n",
       "            <td>Canada</td>\n",
       "            <td>9984670</td>\n",
       "            <td>9093507</td>\n",
       "            <td>891163</td>\n",
       "            <td>35099836</td>\n",
       "            <td>0.75</td>\n",
       "            <td>10.28</td>\n",
       "            <td>8.42</td>\n",
       "            <td>5.66</td>\n",
       "        </tr>\n",
       "    </tbody>\n",
       "</table>"
      ],
      "text/plain": [
       "[(32, 'ca', 'Canada', 9984670, 9093507, 891163, 35099836, 0.75, 10.28, 8.42, 5.66)]"
      ]
     },
     "execution_count": 19,
     "metadata": {},
     "output_type": "execute_result"
    }
   ],
   "source": [
    "%%sql\n",
    "SELECT *\n",
    "FROM facts\n",
    "WHERE area_water=(SELECT MAX(area_water) FROM facts)"
   ]
  },
  {
   "cell_type": "markdown",
   "metadata": {},
   "source": [
    "### The percentage of the land area in Canada"
   ]
  },
  {
   "cell_type": "code",
   "execution_count": 34,
   "metadata": {},
   "outputs": [
    {
     "name": "stdout",
     "output_type": "stream",
     "text": [
      " * sqlite:///factbook.db\n",
      "Done.\n"
     ]
    },
    {
     "data": {
      "text/html": [
       "<table>\n",
       "    <thead>\n",
       "        <tr>\n",
       "            <th>id</th>\n",
       "            <th>name</th>\n",
       "            <th>per_area_land</th>\n",
       "        </tr>\n",
       "    </thead>\n",
       "    <tbody>\n",
       "        <tr>\n",
       "            <td>32</td>\n",
       "            <td>Canada</td>\n",
       "            <td>91.07468749593126</td>\n",
       "        </tr>\n",
       "    </tbody>\n",
       "</table>"
      ],
      "text/plain": [
       "[(32, 'Canada', 91.07468749593126)]"
      ]
     },
     "execution_count": 34,
     "metadata": {},
     "output_type": "execute_result"
    }
   ],
   "source": [
    "%%sql\n",
    "SELECT id,name, CAST(area_land as float)/CAST(area as float) *100  AS per_area_land\n",
    "FROM facts\n",
    "WHERE name='Canada'"
   ]
  },
  {
   "cell_type": "markdown",
   "metadata": {},
   "source": [
    "### The percentage of the water area in Canada"
   ]
  },
  {
   "cell_type": "code",
   "execution_count": 37,
   "metadata": {},
   "outputs": [
    {
     "name": "stdout",
     "output_type": "stream",
     "text": [
      " * sqlite:///factbook.db\n",
      "Done.\n"
     ]
    },
    {
     "data": {
      "text/html": [
       "<table>\n",
       "    <thead>\n",
       "        <tr>\n",
       "            <th>id</th>\n",
       "            <th>name</th>\n",
       "            <th>per_area_water</th>\n",
       "        </tr>\n",
       "    </thead>\n",
       "    <tbody>\n",
       "        <tr>\n",
       "            <td>32</td>\n",
       "            <td>Canada</td>\n",
       "            <td>8.925312504068737</td>\n",
       "        </tr>\n",
       "    </tbody>\n",
       "</table>"
      ],
      "text/plain": [
       "[(32, 'Canada', 8.925312504068737)]"
      ]
     },
     "execution_count": 37,
     "metadata": {},
     "output_type": "execute_result"
    }
   ],
   "source": [
    "%%sql\n",
    "SELECT id,name, CAST(area_water as float)/CAST(area as float) *100  AS per_area_water\n",
    "FROM facts\n",
    "WHERE name='Canada'"
   ]
  },
  {
   "cell_type": "markdown",
   "metadata": {},
   "source": [
    "### The percentage of the land area in Russia"
   ]
  },
  {
   "cell_type": "code",
   "execution_count": 38,
   "metadata": {},
   "outputs": [
    {
     "name": "stdout",
     "output_type": "stream",
     "text": [
      " * sqlite:///factbook.db\n",
      "Done.\n"
     ]
    },
    {
     "data": {
      "text/html": [
       "<table>\n",
       "    <thead>\n",
       "        <tr>\n",
       "            <th>id</th>\n",
       "            <th>name</th>\n",
       "            <th>per_area_land</th>\n",
       "        </tr>\n",
       "    </thead>\n",
       "    <tbody>\n",
       "        <tr>\n",
       "            <td>143</td>\n",
       "            <td>Russia</td>\n",
       "            <td>95.78611649080648</td>\n",
       "        </tr>\n",
       "    </tbody>\n",
       "</table>"
      ],
      "text/plain": [
       "[(143, 'Russia', 95.78611649080648)]"
      ]
     },
     "execution_count": 38,
     "metadata": {},
     "output_type": "execute_result"
    }
   ],
   "source": [
    "%%sql\n",
    "SELECT id,name, CAST(area_land as float)/CAST(area as float) *100  AS per_area_land\n",
    "FROM facts\n",
    "WHERE name='Russia'"
   ]
  },
  {
   "cell_type": "markdown",
   "metadata": {},
   "source": [
    "### The percentage of the water area in Russia"
   ]
  },
  {
   "cell_type": "code",
   "execution_count": 39,
   "metadata": {},
   "outputs": [
    {
     "name": "stdout",
     "output_type": "stream",
     "text": [
      " * sqlite:///factbook.db\n",
      "Done.\n"
     ]
    },
    {
     "data": {
      "text/html": [
       "<table>\n",
       "    <thead>\n",
       "        <tr>\n",
       "            <th>id</th>\n",
       "            <th>name</th>\n",
       "            <th>per_area_water</th>\n",
       "        </tr>\n",
       "    </thead>\n",
       "    <tbody>\n",
       "        <tr>\n",
       "            <td>143</td>\n",
       "            <td>Russia</td>\n",
       "            <td>4.2138835091935185</td>\n",
       "        </tr>\n",
       "    </tbody>\n",
       "</table>"
      ],
      "text/plain": [
       "[(143, 'Russia', 4.2138835091935185)]"
      ]
     },
     "execution_count": 39,
     "metadata": {},
     "output_type": "execute_result"
    }
   ],
   "source": [
    "%%sql\n",
    "SELECT id,name, CAST(area_water as float)/CAST(area as float) *100  AS per_area_water\n",
    "FROM facts\n",
    "WHERE name='Russia'"
   ]
  },
  {
   "cell_type": "markdown",
   "metadata": {},
   "source": [
    "### The largest percentage of the Country of the land area and the water area"
   ]
  },
  {
   "cell_type": "code",
   "execution_count": 41,
   "metadata": {},
   "outputs": [
    {
     "name": "stdout",
     "output_type": "stream",
     "text": [
      " * sqlite:///factbook.db\n",
      "Done.\n"
     ]
    },
    {
     "data": {
      "text/html": [
       "<table>\n",
       "    <thead>\n",
       "        <tr>\n",
       "            <th>id</th>\n",
       "            <th>name</th>\n",
       "            <th>per_area_water</th>\n",
       "        </tr>\n",
       "    </thead>\n",
       "    <tbody>\n",
       "        <tr>\n",
       "            <td>228</td>\n",
       "            <td>British Indian Ocean Territory</td>\n",
       "            <td>99.88970588235294</td>\n",
       "        </tr>\n",
       "        <tr>\n",
       "            <td>247</td>\n",
       "            <td>Virgin Islands</td>\n",
       "            <td>81.8848167539267</td>\n",
       "        </tr>\n",
       "        <tr>\n",
       "            <td>246</td>\n",
       "            <td>Puerto Rico</td>\n",
       "            <td>35.6826916104706</td>\n",
       "        </tr>\n",
       "        <tr>\n",
       "            <td>12</td>\n",
       "            <td>Bahamas, The</td>\n",
       "            <td>27.881844380403457</td>\n",
       "        </tr>\n",
       "        <tr>\n",
       "            <td>71</td>\n",
       "            <td>Guinea-Bissau</td>\n",
       "            <td>22.15916955017301</td>\n",
       "        </tr>\n",
       "    </tbody>\n",
       "</table>"
      ],
      "text/plain": [
       "[(228, 'British Indian Ocean Territory', 99.88970588235294),\n",
       " (247, 'Virgin Islands', 81.8848167539267),\n",
       " (246, 'Puerto Rico', 35.6826916104706),\n",
       " (12, 'Bahamas, The', 27.881844380403457),\n",
       " (71, 'Guinea-Bissau', 22.15916955017301)]"
      ]
     },
     "execution_count": 41,
     "metadata": {},
     "output_type": "execute_result"
    }
   ],
   "source": [
    "%%sql\n",
    "SELECT id,name, CAST(area_water as float)/CAST(area as float) *100  AS per_area_water\n",
    "FROM facts\n",
    "ORDER BY per_area_water DESC\n",
    "LIMIT 5"
   ]
  },
  {
   "cell_type": "code",
   "execution_count": 43,
   "metadata": {},
   "outputs": [
    {
     "name": "stdout",
     "output_type": "stream",
     "text": [
      " * sqlite:///factbook.db\n",
      "Done.\n"
     ]
    },
    {
     "data": {
      "text/html": [
       "<table>\n",
       "    <thead>\n",
       "        <tr>\n",
       "            <th>id</th>\n",
       "            <th>name</th>\n",
       "            <th>per_area_land</th>\n",
       "        </tr>\n",
       "    </thead>\n",
       "    <tbody>\n",
       "        <tr>\n",
       "            <td>1</td>\n",
       "            <td>Afghanistan</td>\n",
       "            <td>100.0</td>\n",
       "        </tr>\n",
       "        <tr>\n",
       "            <td>3</td>\n",
       "            <td>Algeria</td>\n",
       "            <td>100.0</td>\n",
       "        </tr>\n",
       "        <tr>\n",
       "            <td>4</td>\n",
       "            <td>Andorra</td>\n",
       "            <td>100.0</td>\n",
       "        </tr>\n",
       "        <tr>\n",
       "            <td>5</td>\n",
       "            <td>Angola</td>\n",
       "            <td>100.0</td>\n",
       "        </tr>\n",
       "        <tr>\n",
       "            <td>6</td>\n",
       "            <td>Antigua and Barbuda</td>\n",
       "            <td>100.0</td>\n",
       "        </tr>\n",
       "        <tr>\n",
       "            <td>13</td>\n",
       "            <td>Bahrain</td>\n",
       "            <td>100.0</td>\n",
       "        </tr>\n",
       "        <tr>\n",
       "            <td>15</td>\n",
       "            <td>Barbados</td>\n",
       "            <td>100.0</td>\n",
       "        </tr>\n",
       "        <tr>\n",
       "            <td>20</td>\n",
       "            <td>Bhutan</td>\n",
       "            <td>100.0</td>\n",
       "        </tr>\n",
       "        <tr>\n",
       "            <td>33</td>\n",
       "            <td>Cabo Verde</td>\n",
       "            <td>100.0</td>\n",
       "        </tr>\n",
       "        <tr>\n",
       "            <td>34</td>\n",
       "            <td>Central African Republic</td>\n",
       "            <td>100.0</td>\n",
       "        </tr>\n",
       "    </tbody>\n",
       "</table>"
      ],
      "text/plain": [
       "[(1, 'Afghanistan', 100.0),\n",
       " (3, 'Algeria', 100.0),\n",
       " (4, 'Andorra', 100.0),\n",
       " (5, 'Angola', 100.0),\n",
       " (6, 'Antigua and Barbuda', 100.0),\n",
       " (13, 'Bahrain', 100.0),\n",
       " (15, 'Barbados', 100.0),\n",
       " (20, 'Bhutan', 100.0),\n",
       " (33, 'Cabo Verde', 100.0),\n",
       " (34, 'Central African Republic', 100.0)]"
      ]
     },
     "execution_count": 43,
     "metadata": {},
     "output_type": "execute_result"
    }
   ],
   "source": [
    "%%sql\n",
    "SELECT id,name, CAST(area_land as float)/CAST(area as float) *100  AS per_area_land\n",
    "FROM facts\n",
    "ORDER BY per_area_land DESC\n",
    "LIMIT 10"
   ]
  },
  {
   "cell_type": "code",
   "execution_count": 48,
   "metadata": {},
   "outputs": [
    {
     "name": "stdout",
     "output_type": "stream",
     "text": [
      " * sqlite:///factbook.db\n",
      "Done.\n"
     ]
    },
    {
     "data": {
      "text/html": [
       "<table>\n",
       "    <thead>\n",
       "        <tr>\n",
       "            <th>total_area</th>\n",
       "            <th>total_area_land</th>\n",
       "            <th>total_area_water</th>\n",
       "        </tr>\n",
       "    </thead>\n",
       "    <tbody>\n",
       "        <tr>\n",
       "            <td>138218293</td>\n",
       "            <td>128584834</td>\n",
       "            <td>4633425</td>\n",
       "        </tr>\n",
       "    </tbody>\n",
       "</table>"
      ],
      "text/plain": [
       "[(138218293, 128584834, 4633425)]"
      ]
     },
     "execution_count": 48,
     "metadata": {},
     "output_type": "execute_result"
    }
   ],
   "source": [
    "%%sql\n",
    "SELECT \n",
    "SUM(area) AS total_area,\n",
    "SUM(area_land) AS total_area_land,\n",
    "SUM(area_water) AS total_area_water\n",
    "FROM facts"
   ]
  },
  {
   "cell_type": "markdown",
   "metadata": {},
   "source": [
    "### Above the result output, it can be seen that more area of land is covered than area of water on the world."
   ]
  },
  {
   "cell_type": "code",
   "execution_count": null,
   "metadata": {},
   "outputs": [],
   "source": []
  }
 ],
 "metadata": {
  "kernelspec": {
   "display_name": "Python 3 (ipykernel)",
   "language": "python",
   "name": "python3"
  },
  "language_info": {
   "codemirror_mode": {
    "name": "ipython",
    "version": 3
   },
   "file_extension": ".py",
   "mimetype": "text/x-python",
   "name": "python",
   "nbconvert_exporter": "python",
   "pygments_lexer": "ipython3",
   "version": "3.11.5"
  }
 },
 "nbformat": 4,
 "nbformat_minor": 4
}
